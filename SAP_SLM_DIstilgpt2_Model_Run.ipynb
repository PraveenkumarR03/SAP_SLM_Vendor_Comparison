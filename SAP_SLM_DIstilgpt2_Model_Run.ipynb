{
  "nbformat": 4,
  "nbformat_minor": 0,
  "metadata": {
    "colab": {
      "provenance": [],
      "gpuType": "T4"
    },
    "kernelspec": {
      "name": "python3",
      "display_name": "Python 3"
    },
    "language_info": {
      "name": "python"
    },
    "accelerator": "GPU"
  },
  "cells": [
    {
      "cell_type": "code",
      "execution_count": 5,
      "metadata": {
        "colab": {
          "base_uri": "https://localhost:8080/"
        },
        "id": "Jrl-l6buT6bT",
        "outputId": "4d3011c5-3823-4a17-b0d3-244c285afa14"
      },
      "outputs": [
        {
          "output_type": "stream",
          "name": "stdout",
          "text": [
            "Requirement already satisfied: torch in /usr/local/lib/python3.10/dist-packages (2.2.1+cu121)\n",
            "Requirement already satisfied: torchtext in /usr/local/lib/python3.10/dist-packages (0.17.1)\n",
            "Requirement already satisfied: transformers in /usr/local/lib/python3.10/dist-packages (4.40.1)\n",
            "Requirement already satisfied: sentencepiece in /usr/local/lib/python3.10/dist-packages (0.1.99)\n",
            "Requirement already satisfied: pandas in /usr/local/lib/python3.10/dist-packages (2.0.3)\n",
            "Requirement already satisfied: tqdm in /usr/local/lib/python3.10/dist-packages (4.66.2)\n",
            "Requirement already satisfied: datasets in /usr/local/lib/python3.10/dist-packages (2.19.0)\n",
            "Requirement already satisfied: filelock in /usr/local/lib/python3.10/dist-packages (from torch) (3.14.0)\n",
            "Requirement already satisfied: typing-extensions>=4.8.0 in /usr/local/lib/python3.10/dist-packages (from torch) (4.11.0)\n",
            "Requirement already satisfied: sympy in /usr/local/lib/python3.10/dist-packages (from torch) (1.12)\n",
            "Requirement already satisfied: networkx in /usr/local/lib/python3.10/dist-packages (from torch) (3.3)\n",
            "Requirement already satisfied: jinja2 in /usr/local/lib/python3.10/dist-packages (from torch) (3.1.3)\n",
            "Requirement already satisfied: fsspec in /usr/local/lib/python3.10/dist-packages (from torch) (2023.6.0)\n",
            "Requirement already satisfied: nvidia-cuda-nvrtc-cu12==12.1.105 in /usr/local/lib/python3.10/dist-packages (from torch) (12.1.105)\n",
            "Requirement already satisfied: nvidia-cuda-runtime-cu12==12.1.105 in /usr/local/lib/python3.10/dist-packages (from torch) (12.1.105)\n",
            "Requirement already satisfied: nvidia-cuda-cupti-cu12==12.1.105 in /usr/local/lib/python3.10/dist-packages (from torch) (12.1.105)\n",
            "Requirement already satisfied: nvidia-cudnn-cu12==8.9.2.26 in /usr/local/lib/python3.10/dist-packages (from torch) (8.9.2.26)\n",
            "Requirement already satisfied: nvidia-cublas-cu12==12.1.3.1 in /usr/local/lib/python3.10/dist-packages (from torch) (12.1.3.1)\n",
            "Requirement already satisfied: nvidia-cufft-cu12==11.0.2.54 in /usr/local/lib/python3.10/dist-packages (from torch) (11.0.2.54)\n",
            "Requirement already satisfied: nvidia-curand-cu12==10.3.2.106 in /usr/local/lib/python3.10/dist-packages (from torch) (10.3.2.106)\n",
            "Requirement already satisfied: nvidia-cusolver-cu12==11.4.5.107 in /usr/local/lib/python3.10/dist-packages (from torch) (11.4.5.107)\n",
            "Requirement already satisfied: nvidia-cusparse-cu12==12.1.0.106 in /usr/local/lib/python3.10/dist-packages (from torch) (12.1.0.106)\n",
            "Requirement already satisfied: nvidia-nccl-cu12==2.19.3 in /usr/local/lib/python3.10/dist-packages (from torch) (2.19.3)\n",
            "Requirement already satisfied: nvidia-nvtx-cu12==12.1.105 in /usr/local/lib/python3.10/dist-packages (from torch) (12.1.105)\n",
            "Requirement already satisfied: triton==2.2.0 in /usr/local/lib/python3.10/dist-packages (from torch) (2.2.0)\n",
            "Requirement already satisfied: nvidia-nvjitlink-cu12 in /usr/local/lib/python3.10/dist-packages (from nvidia-cusolver-cu12==11.4.5.107->torch) (12.4.127)\n",
            "Requirement already satisfied: requests in /usr/local/lib/python3.10/dist-packages (from torchtext) (2.31.0)\n",
            "Requirement already satisfied: numpy in /usr/local/lib/python3.10/dist-packages (from torchtext) (1.25.2)\n",
            "Requirement already satisfied: torchdata==0.7.1 in /usr/local/lib/python3.10/dist-packages (from torchtext) (0.7.1)\n",
            "Requirement already satisfied: urllib3>=1.25 in /usr/local/lib/python3.10/dist-packages (from torchdata==0.7.1->torchtext) (2.0.7)\n",
            "Requirement already satisfied: huggingface-hub<1.0,>=0.19.3 in /usr/local/lib/python3.10/dist-packages (from transformers) (0.23.0)\n",
            "Requirement already satisfied: packaging>=20.0 in /usr/local/lib/python3.10/dist-packages (from transformers) (24.0)\n",
            "Requirement already satisfied: pyyaml>=5.1 in /usr/local/lib/python3.10/dist-packages (from transformers) (6.0.1)\n",
            "Requirement already satisfied: regex!=2019.12.17 in /usr/local/lib/python3.10/dist-packages (from transformers) (2023.12.25)\n",
            "Requirement already satisfied: tokenizers<0.20,>=0.19 in /usr/local/lib/python3.10/dist-packages (from transformers) (0.19.1)\n",
            "Requirement already satisfied: safetensors>=0.4.1 in /usr/local/lib/python3.10/dist-packages (from transformers) (0.4.3)\n",
            "Requirement already satisfied: python-dateutil>=2.8.2 in /usr/local/lib/python3.10/dist-packages (from pandas) (2.8.2)\n",
            "Requirement already satisfied: pytz>=2020.1 in /usr/local/lib/python3.10/dist-packages (from pandas) (2023.4)\n",
            "Requirement already satisfied: tzdata>=2022.1 in /usr/local/lib/python3.10/dist-packages (from pandas) (2024.1)\n",
            "Requirement already satisfied: pyarrow>=12.0.0 in /usr/local/lib/python3.10/dist-packages (from datasets) (14.0.2)\n",
            "Requirement already satisfied: pyarrow-hotfix in /usr/local/lib/python3.10/dist-packages (from datasets) (0.6)\n",
            "Requirement already satisfied: dill<0.3.9,>=0.3.0 in /usr/local/lib/python3.10/dist-packages (from datasets) (0.3.8)\n",
            "Requirement already satisfied: xxhash in /usr/local/lib/python3.10/dist-packages (from datasets) (3.4.1)\n",
            "Requirement already satisfied: multiprocess in /usr/local/lib/python3.10/dist-packages (from datasets) (0.70.16)\n",
            "Requirement already satisfied: aiohttp in /usr/local/lib/python3.10/dist-packages (from datasets) (3.9.5)\n",
            "Requirement already satisfied: aiosignal>=1.1.2 in /usr/local/lib/python3.10/dist-packages (from aiohttp->datasets) (1.3.1)\n",
            "Requirement already satisfied: attrs>=17.3.0 in /usr/local/lib/python3.10/dist-packages (from aiohttp->datasets) (23.2.0)\n",
            "Requirement already satisfied: frozenlist>=1.1.1 in /usr/local/lib/python3.10/dist-packages (from aiohttp->datasets) (1.4.1)\n",
            "Requirement already satisfied: multidict<7.0,>=4.5 in /usr/local/lib/python3.10/dist-packages (from aiohttp->datasets) (6.0.5)\n",
            "Requirement already satisfied: yarl<2.0,>=1.0 in /usr/local/lib/python3.10/dist-packages (from aiohttp->datasets) (1.9.4)\n",
            "Requirement already satisfied: async-timeout<5.0,>=4.0 in /usr/local/lib/python3.10/dist-packages (from aiohttp->datasets) (4.0.3)\n",
            "Requirement already satisfied: six>=1.5 in /usr/local/lib/python3.10/dist-packages (from python-dateutil>=2.8.2->pandas) (1.16.0)\n",
            "Requirement already satisfied: charset-normalizer<4,>=2 in /usr/local/lib/python3.10/dist-packages (from requests->torchtext) (3.3.2)\n",
            "Requirement already satisfied: idna<4,>=2.5 in /usr/local/lib/python3.10/dist-packages (from requests->torchtext) (3.7)\n",
            "Requirement already satisfied: certifi>=2017.4.17 in /usr/local/lib/python3.10/dist-packages (from requests->torchtext) (2024.2.2)\n",
            "Requirement already satisfied: MarkupSafe>=2.0 in /usr/local/lib/python3.10/dist-packages (from jinja2->torch) (2.1.5)\n",
            "Requirement already satisfied: mpmath>=0.19 in /usr/local/lib/python3.10/dist-packages (from sympy->torch) (1.3.0)\n"
          ]
        }
      ],
      "source": [
        "!pip install torch torchtext transformers sentencepiece pandas tqdm datasets"
      ]
    },
    {
      "cell_type": "code",
      "source": [
        "from google.colab import drive\n",
        "drive.mount('/content/drive')"
      ],
      "metadata": {
        "colab": {
          "base_uri": "https://localhost:8080/"
        },
        "id": "viza3kKK8UYG",
        "outputId": "4764cad0-be18-4491-d4e6-e9753a2f1857"
      },
      "execution_count": 6,
      "outputs": [
        {
          "output_type": "stream",
          "name": "stdout",
          "text": [
            "Drive already mounted at /content/drive; to attempt to forcibly remount, call drive.mount(\"/content/drive\", force_remount=True).\n"
          ]
        }
      ]
    },
    {
      "cell_type": "code",
      "source": [
        "import torch\n",
        "from transformers import GPT2Tokenizer, GPT2LMHeadModel\n",
        "import pandas as pd\n",
        "import time\n",
        "\n",
        "def load_model(model_path):\n",
        "    model = torch.load(model_path)\n",
        "    model.eval()  # Set model to evaluation mode\n",
        "    return model\n",
        "\n",
        "def make_predictions(model, input_str, tokenizer):\n",
        "    input_ids = tokenizer.encode(input_str, return_tensors='pt').to('cuda')\n",
        "    model.to('cuda')\n",
        "    output = model.generate(\n",
        "        input_ids,\n",
        "        max_length=20,\n",
        "        num_return_sequences=1,\n",
        "        do_sample=True,\n",
        "        top_k=5,\n",
        "        top_p=0.8,\n",
        "        temperature=0.2,\n",
        "        repetition_penalty=1.0\n",
        "    )\n",
        "    decoded_output = tokenizer.decode(output[0], skip_special_tokens=True)\n",
        "    print(decoded_output)\n",
        "    return decoded_output\n",
        "\n",
        "if __name__ == \"__main__\":\n",
        "    model_path = '/content/drive/MyDrive/SAP_SLM/SmallMedLM.pt'\n",
        "    dataset_path = '/content/drive/MyDrive/SAP_SLM/clothes_price_prediction_data.csv'\n",
        "\n",
        "    tokenizer = GPT2Tokenizer.from_pretrained('distilgpt2')\n",
        "\n",
        "    model = load_model(model_path)\n",
        "\n",
        "    previous_dataset_snapshot = None\n",
        "\n",
        "    # Continuously monitor the dataset for changes\n",
        "    while True:\n",
        "        df = pd.read_csv(dataset_path)\n",
        "\n",
        "        # Check for changes in the dataset\n",
        "        if previous_dataset_snapshot is None or not df.equals(previous_dataset_snapshot):\n",
        "            print(\"Detected dataset changes. Reloading model and making predictions...\")\n",
        "\n",
        "            previous_dataset_snapshot = df.copy()\n",
        "\n",
        "            input_str = \"puma Jacket\"\n",
        "            prediction = make_predictions(model, input_str, tokenizer)\n",
        "            print(\"Prediction:\", prediction)\n",
        "\n",
        "            row_parts = prediction.split('|')\n",
        "            data = row_parts[0].strip()\n",
        "            id_value = int(row_parts[1].strip())\n",
        "            print(\"Product ID: \",id_value)\n",
        "            condition = (df['Id'] == id_value)\n",
        "            index = df.loc[condition].index\n",
        "            row = df.loc[index]\n",
        "            print(\"Row:\")\n",
        "            print(row)\n",
        "\n",
        "            model = load_model(model_path)\n",
        "        time.sleep(60)\n"
      ],
      "metadata": {
        "colab": {
          "base_uri": "https://localhost:8080/",
          "height": 387
        },
        "id": "vup_3Q1jZ60E",
        "outputId": "7d23e2c1-ba08-42b0-cf29-3f86ec517442"
      },
      "execution_count": 21,
      "outputs": [
        {
          "output_type": "stream",
          "name": "stderr",
          "text": [
            "/usr/local/lib/python3.10/dist-packages/huggingface_hub/file_download.py:1132: FutureWarning: `resume_download` is deprecated and will be removed in version 1.0.0. Downloads always resume when possible. If you want to force a new download, use `force_download=True`.\n",
            "  warnings.warn(\n",
            "The attention mask and the pad token id were not set. As a consequence, you may observe unexpected behavior. Please pass your input's `attention_mask` to obtain reliable results.\n",
            "Setting `pad_token_id` to `eos_token_id`:50256 for open-end generation.\n"
          ]
        },
        {
          "output_type": "stream",
          "name": "stdout",
          "text": [
            "Detected dataset changes. Reloading model and making predictions...\n",
            "puma Jacket | 715\n",
            "Prediction: puma Jacket | 715\n",
            "Product ID:  715\n",
            "Row:\n",
            "    Brand Category  Color Size Material  Price   Id\n",
            "714  Puma   Jacket  White   XS     Wool     14  715\n"
          ]
        },
        {
          "output_type": "error",
          "ename": "KeyboardInterrupt",
          "evalue": "",
          "traceback": [
            "\u001b[0;31m---------------------------------------------------------------------------\u001b[0m",
            "\u001b[0;31mKeyboardInterrupt\u001b[0m                         Traceback (most recent call last)",
            "\u001b[0;32m<ipython-input-21-9b59e73e6527>\u001b[0m in \u001b[0;36m<cell line: 28>\u001b[0;34m()\u001b[0m\n\u001b[1;32m     64\u001b[0m             \u001b[0mprint\u001b[0m\u001b[0;34m(\u001b[0m\u001b[0mrow\u001b[0m\u001b[0;34m)\u001b[0m\u001b[0;34m\u001b[0m\u001b[0;34m\u001b[0m\u001b[0m\n\u001b[1;32m     65\u001b[0m             \u001b[0mmodel\u001b[0m \u001b[0;34m=\u001b[0m \u001b[0mload_model\u001b[0m\u001b[0;34m(\u001b[0m\u001b[0mmodel_path\u001b[0m\u001b[0;34m)\u001b[0m\u001b[0;34m\u001b[0m\u001b[0;34m\u001b[0m\u001b[0m\n\u001b[0;32m---> 66\u001b[0;31m         \u001b[0mtime\u001b[0m\u001b[0;34m.\u001b[0m\u001b[0msleep\u001b[0m\u001b[0;34m(\u001b[0m\u001b[0;36m15\u001b[0m\u001b[0;34m)\u001b[0m  \u001b[0;31m# Check every 60 seconds\u001b[0m\u001b[0;34m\u001b[0m\u001b[0;34m\u001b[0m\u001b[0m\n\u001b[0m",
            "\u001b[0;31mKeyboardInterrupt\u001b[0m: "
          ]
        }
      ]
    },
    {
      "cell_type": "code",
      "source": [
        "#giving inputs but accuracy will go\n",
        "\n",
        "import torch\n",
        "from transformers import GPT2Tokenizer, GPT2LMHeadModel\n",
        "import pandas as pd\n",
        "import time\n",
        "\n",
        "def load_model(model_path):\n",
        "    model = torch.load(model_path)\n",
        "    model.eval()  # Set model to evaluation mode\n",
        "    return model\n",
        "\n",
        "def make_predictions(model, input_str, tokenizer):\n",
        "    input_ids = tokenizer.encode(input_str, return_tensors='pt').to('cuda')\n",
        "    model.to('cuda')\n",
        "    output = model.generate(\n",
        "        input_ids,\n",
        "        max_length=20,\n",
        "        num_return_sequences=1,\n",
        "        do_sample=True,\n",
        "        top_k=5,\n",
        "        top_p=0.8,\n",
        "        temperature=0.2,\n",
        "        repetition_penalty=1.0\n",
        "    )\n",
        "    decoded_output = tokenizer.decode(output[0], skip_special_tokens=True)\n",
        "    print(decoded_output)\n",
        "    return decoded_output\n",
        "\n",
        "if __name__ == \"__main__\":\n",
        "    model_path = '/content/drive/MyDrive/SAP_SLM/SmallMedLM.pt'\n",
        "    dataset_path = '/content/drive/MyDrive/SAP_SLM/clothes_price_prediction_data.csv'\n",
        "\n",
        "    tokenizer = GPT2Tokenizer.from_pretrained('distilgpt2')\n",
        "\n",
        "    # Load initial model\n",
        "    model = load_model(model_path)\n",
        "\n",
        "    # Initialize variable to store previous dataset snapshot\n",
        "    previous_dataset_snapshot = None\n",
        "\n",
        "    # Continuously monitor the dataset for changes\n",
        "    while True:\n",
        "        # Load dataset\n",
        "        df = pd.read_csv(dataset_path)\n",
        "\n",
        "        # Check for changes in the dataset\n",
        "        if previous_dataset_snapshot is None or not df.equals(previous_dataset_snapshot):\n",
        "            print(\"Detected dataset changes. Reloading model and making predictions...\")\n",
        "\n",
        "            # Update the previous dataset snapshot\n",
        "            previous_dataset_snapshot = df.copy()\n",
        "\n",
        "            # User input\n",
        "            user_input = input(\"Please provide your preferences separated by spaces (Brand Category Color Size Material Maximum_Price Maximum_Delivery_Days): \")\n",
        "            preferences = user_input.split()\n",
        "\n",
        "            # Extract preferences\n",
        "            brand = preferences[0]\n",
        "            category = preferences[1]\n",
        "            color = preferences[2]\n",
        "            size = preferences[3]\n",
        "            material = preferences[4]\n",
        "            max_price = float(preferences[5])\n",
        "            max_delivery_days = int(preferences[6])\n",
        "\n",
        "            # Generate input string for the model\n",
        "            input_str = f\"{brand} {category} {color} {size} {material}\"\n",
        "\n",
        "            # Make predictions\n",
        "            prediction = make_predictions(model, input_str, tokenizer)\n",
        "            print(\"Prediction:\", prediction)\n",
        "            row_parts = prediction.split('|')\n",
        "            data = row_parts[0].strip()  # Extracting the row data and removing leading/trailing whitespace\n",
        "            id_value = int(row_parts[1].strip())\n",
        "            print(\"Product ID: \",id_value)\n",
        "            condition = (df['Id'] == id_value)\n",
        "            index = df.loc[condition].index\n",
        "            row = df.loc[index]\n",
        "            print(\"Row:\")\n",
        "            print(row)\n",
        "            model = load_model(model_path)\n",
        "        time.sleep(15)  # Check every 60 seconds\n"
      ],
      "metadata": {
        "colab": {
          "base_uri": "https://localhost:8080/",
          "height": 404
        },
        "id": "JAvb29N9Z62N",
        "outputId": "8f89ab1b-d3f2-4a4f-8a5b-e6da50552a59"
      },
      "execution_count": 20,
      "outputs": [
        {
          "output_type": "stream",
          "name": "stderr",
          "text": [
            "/usr/local/lib/python3.10/dist-packages/huggingface_hub/file_download.py:1132: FutureWarning: `resume_download` is deprecated and will be removed in version 1.0.0. Downloads always resume when possible. If you want to force a new download, use `force_download=True`.\n",
            "  warnings.warn(\n"
          ]
        },
        {
          "name": "stdout",
          "output_type": "stream",
          "text": [
            "Detected dataset changes. Reloading model and making predictions...\n",
            "Please provide your preferences separated by spaces (Brand Category Color Size Material Maximum_Price Maximum_Delivery_Days):  Puma Shirt white XL cotton 400 4\n"
          ]
        },
        {
          "output_type": "stream",
          "name": "stderr",
          "text": [
            "The attention mask and the pad token id were not set. As a consequence, you may observe unexpected behavior. Please pass your input's `attention_mask` to obtain reliable results.\n",
            "Setting `pad_token_id` to `eos_token_id`:50256 for open-end generation.\n"
          ]
        },
        {
          "output_type": "stream",
          "name": "stdout",
          "text": [
            "Puma Shirt white XL cotton | 629\n",
            "Prediction: Puma Shirt white XL cotton | 629\n",
            "Product ID:  629\n",
            "Row:\n",
            "    Brand Category Color Size Material  Price   Id\n",
            "628  Puma   Jacket  Blue   XS   Cotton    144  629\n"
          ]
        },
        {
          "output_type": "error",
          "ename": "KeyboardInterrupt",
          "evalue": "",
          "traceback": [
            "\u001b[0;31m---------------------------------------------------------------------------\u001b[0m",
            "\u001b[0;31mKeyboardInterrupt\u001b[0m                         Traceback (most recent call last)",
            "\u001b[0;32m<ipython-input-20-ab0f342a8262>\u001b[0m in \u001b[0;36m<cell line: 28>\u001b[0;34m()\u001b[0m\n\u001b[1;32m     79\u001b[0m             \u001b[0mprint\u001b[0m\u001b[0;34m(\u001b[0m\u001b[0mrow\u001b[0m\u001b[0;34m)\u001b[0m\u001b[0;34m\u001b[0m\u001b[0;34m\u001b[0m\u001b[0m\n\u001b[1;32m     80\u001b[0m             \u001b[0mmodel\u001b[0m \u001b[0;34m=\u001b[0m \u001b[0mload_model\u001b[0m\u001b[0;34m(\u001b[0m\u001b[0mmodel_path\u001b[0m\u001b[0;34m)\u001b[0m\u001b[0;34m\u001b[0m\u001b[0;34m\u001b[0m\u001b[0m\n\u001b[0;32m---> 81\u001b[0;31m         \u001b[0mtime\u001b[0m\u001b[0;34m.\u001b[0m\u001b[0msleep\u001b[0m\u001b[0;34m(\u001b[0m\u001b[0;36m15\u001b[0m\u001b[0;34m)\u001b[0m  \u001b[0;31m# Check every 60 seconds\u001b[0m\u001b[0;34m\u001b[0m\u001b[0;34m\u001b[0m\u001b[0m\n\u001b[0m",
            "\u001b[0;31mKeyboardInterrupt\u001b[0m: "
          ]
        }
      ]
    }
  ]
}